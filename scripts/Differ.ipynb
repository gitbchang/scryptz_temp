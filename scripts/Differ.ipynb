{
 "cells": [
  {
   "cell_type": "code",
   "execution_count": 3,
   "metadata": {},
   "outputs": [
    {
     "name": "stdout",
     "output_type": "stream",
     "text": [
      "{'Total Products': 142, 'Name': 142, 'Product Pages': 142, 'Images': 142, 'Families': 142}\n",
      "{'Total Products': 142, 'Name': 142, 'Product Pages': 142, 'Images': 142, 'Families': 142}\n"
     ]
    }
   ],
   "source": [
    "import json\n",
    "\n",
    "def convert_json(file_path):\n",
    "    with open (file_path, \"r\") as myfile:\n",
    "        data=myfile.read().replace(\"}\\n{\", \"},\\n{\")\n",
    "        data = \"[\" + data + \"]\"\n",
    "        data = json.loads(data)\n",
    "        return data\n",
    "\n",
    "\n",
    "def calc_stats(file_path):\n",
    "    formatted_data = convert_json(file_path)\n",
    "\n",
    "    pid_count = 0\n",
    "    p_name_count = 0\n",
    "    pdp_count = 0\n",
    "    image_url_count = 0\n",
    "    upc_list_count = 0\n",
    "    p_family_count = 0\n",
    "\n",
    "    for p_node in formatted_data:\n",
    "        pid = p_node['externalID']\n",
    "\n",
    "        try:\n",
    "            p_attributes = p_node['attributes']\n",
    "            p_name = p_attributes['name']['default']\n",
    "            pdp = p_attributes['productPageUrl']['default']\n",
    "            image_url = p_attributes['imageUrl']['default']\n",
    "            upc_list = p_attributes['upcs']\n",
    "            p_family = p_node['families']['feed'][0]\n",
    "        except:\n",
    "            pass\n",
    "\n",
    "        if pid:\n",
    "            pid_count += 1\n",
    "        if p_name:\n",
    "            p_name_count += 1\n",
    "        if pdp:\n",
    "            pdp_count += 1\n",
    "        if image_url:\n",
    "            image_url_count += 1\n",
    "        if upc_list:\n",
    "            upc_list_count += 1\n",
    "        if p_family:\n",
    "            p_family_count += 1\n",
    "            \n",
    "    stat_obj = {\n",
    "        \"Total Products\": pid_count,\n",
    "        \"Name\": p_name_count,\n",
    "        \"Product Pages\": pdp_count,\n",
    "        \"Images\": image_url_count,\n",
    "        \"Families\": p_family_count\n",
    "    }\n",
    "\n",
    "    return stat_obj\n",
    "\n",
    "prod_stats = calc_stats(\"../temp_file/prod_product.jsons\")\n",
    "stg_stats = calc_stats(\"../temp_file/stg_product.jsons\")\n",
    "\n",
    "print(prod_stats)\n",
    "print(stg_stats)"
   ]
  },
  {
   "cell_type": "code",
   "execution_count": null,
   "metadata": {},
   "outputs": [],
   "source": []
  }
 ],
 "metadata": {
  "kernelspec": {
   "display_name": "Python 3",
   "language": "python",
   "name": "python3"
  },
  "language_info": {
   "codemirror_mode": {
    "name": "ipython",
    "version": 3
   },
   "file_extension": ".py",
   "mimetype": "text/x-python",
   "name": "python",
   "nbconvert_exporter": "python",
   "pygments_lexer": "ipython3",
   "version": "3.7.4"
  }
 },
 "nbformat": 4,
 "nbformat_minor": 2
}
