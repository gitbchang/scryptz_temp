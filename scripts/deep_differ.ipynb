{
 "cells": [
  {
   "cell_type": "code",
   "execution_count": 9,
   "metadata": {},
   "outputs": [
    {
     "name": "stdout",
     "output_type": "stream",
     "text": [
      "Comparing Data\n",
      "{'values_changed': {\"root['attributes']['name']['default']\": {'new_value': 'RED '\n",
      "                                                                           'GREEN '\n",
      "                                                                           'BLUE',\n",
      "                                                              'old_value': 'ROLY '\n",
      "                                                                           'POLY'},\n",
      "                    \"root['attributes']['name']['en_US']\": {'new_value': 'RED '\n",
      "                                                                         'GREEN '\n",
      "                                                                         'BLUE',\n",
      "                                                            'old_value': 'ROLY '\n",
      "                                                                         'POLY'},\n",
      "                    \"root['attributes']['productPageUrl']['default']\": {'new_value': 'http://google.com',\n",
      "                                                                        'old_value': 'https://shop-cst-tires.myshopify.com/products/roly-poly-1'}}}\n"
     ]
    }
   ],
   "source": [
    "import json\n",
    "from deepdiff import DeepDiff\n",
    "from pprint import pprint\n",
    "\n",
    "stg_data_path = \"../temp_file/stg_product.jsons\"\n",
    "prod_data_path = \"../temp_file/prod_product.jsons\"\n",
    "\n",
    "def convert_json(file_path):\n",
    "    with open (file_path, \"r\") as myfile:\n",
    "        data=myfile.read().replace(\"}\\n{\", \"},\\n{\")\n",
    "        data = \"[\" + data + \"]\"\n",
    "        data = json.loads(data)\n",
    "        return data\n",
    "\n",
    "# write missing products to csv\n",
    "\n",
    "# all_rids = []  \n",
    "# with open(output_filename, \"w\") as output:\n",
    "#     writer = csv.writer(output, lineterminator='\\n')\n",
    "#     for val in all_rids:\n",
    "#         writer.writerow([val])\n",
    "    \n",
    "def compare_products(stg_data, prod_data):\n",
    "    print(\"Comparing Data\")\n",
    "    for stg_product in stg_data:\n",
    "        stg_product_id = stg_product['externalID']        \n",
    "#         get stg product info\n",
    "        for prod_product in prod_data:\n",
    "            prod_product_id = prod_product['externalID']\n",
    "            if stg_product_id == prod_product_id:\n",
    "                ddiff = DeepDiff(prod_product, stg_product, ignore_order=True)\n",
    "                if bool(ddiff):\n",
    "                    pprint(ddiff)\n",
    "\n",
    "    \n",
    "    \n",
    "\n",
    "def main():\n",
    "    new_stg_data = convert_json(stg_data_path)\n",
    "    new_prod_data = convert_json(prod_data_path)\n",
    "    \n",
    "    compare_products(new_stg_data, new_prod_data)\n",
    "    \n",
    "main()\n",
    "    "
   ]
  },
  {
   "cell_type": "code",
   "execution_count": null,
   "metadata": {},
   "outputs": [],
   "source": []
  }
 ],
 "metadata": {
  "kernelspec": {
   "display_name": "Python 3",
   "language": "python",
   "name": "python3"
  },
  "language_info": {
   "codemirror_mode": {
    "name": "ipython",
    "version": 3
   },
   "file_extension": ".py",
   "mimetype": "text/x-python",
   "name": "python",
   "nbconvert_exporter": "python",
   "pygments_lexer": "ipython3",
   "version": "3.7.4"
  }
 },
 "nbformat": 4,
 "nbformat_minor": 2
}
