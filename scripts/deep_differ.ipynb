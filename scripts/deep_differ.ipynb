{
 "cells": [
  {
   "cell_type": "code",
   "execution_count": 6,
   "metadata": {},
   "outputs": [
    {
     "name": "stdout",
     "output_type": "stream",
     "text": [
      "Comparing Data\n"
     ]
    },
    {
     "ename": "NameError",
     "evalue": "name 't1' is not defined",
     "output_type": "error",
     "traceback": [
      "\u001b[0;31m---------------------------------------------------------------------------\u001b[0m",
      "\u001b[0;31mNameError\u001b[0m                                 Traceback (most recent call last)",
      "\u001b[0;32m<ipython-input-6-8dbec6be6da2>\u001b[0m in \u001b[0;36m<module>\u001b[0;34m\u001b[0m\n\u001b[1;32m     41\u001b[0m     \u001b[0mcompare_products\u001b[0m\u001b[0;34m(\u001b[0m\u001b[0mnew_stg_data\u001b[0m\u001b[0;34m,\u001b[0m \u001b[0mnew_prod_data\u001b[0m\u001b[0;34m)\u001b[0m\u001b[0;34m\u001b[0m\u001b[0;34m\u001b[0m\u001b[0m\n\u001b[1;32m     42\u001b[0m \u001b[0;34m\u001b[0m\u001b[0m\n\u001b[0;32m---> 43\u001b[0;31m \u001b[0mmain\u001b[0m\u001b[0;34m(\u001b[0m\u001b[0;34m)\u001b[0m\u001b[0;34m\u001b[0m\u001b[0;34m\u001b[0m\u001b[0m\n\u001b[0m\u001b[1;32m     44\u001b[0m \u001b[0;34m\u001b[0m\u001b[0m\n",
      "\u001b[0;32m<ipython-input-6-8dbec6be6da2>\u001b[0m in \u001b[0;36mmain\u001b[0;34m()\u001b[0m\n\u001b[1;32m     39\u001b[0m     \u001b[0mnew_prod_data\u001b[0m \u001b[0;34m=\u001b[0m \u001b[0mconvert_json\u001b[0m\u001b[0;34m(\u001b[0m\u001b[0mprod_data_path\u001b[0m\u001b[0;34m)\u001b[0m\u001b[0;34m\u001b[0m\u001b[0;34m\u001b[0m\u001b[0m\n\u001b[1;32m     40\u001b[0m \u001b[0;34m\u001b[0m\u001b[0m\n\u001b[0;32m---> 41\u001b[0;31m     \u001b[0mcompare_products\u001b[0m\u001b[0;34m(\u001b[0m\u001b[0mnew_stg_data\u001b[0m\u001b[0;34m,\u001b[0m \u001b[0mnew_prod_data\u001b[0m\u001b[0;34m)\u001b[0m\u001b[0;34m\u001b[0m\u001b[0;34m\u001b[0m\u001b[0m\n\u001b[0m\u001b[1;32m     42\u001b[0m \u001b[0;34m\u001b[0m\u001b[0m\n\u001b[1;32m     43\u001b[0m \u001b[0mmain\u001b[0m\u001b[0;34m(\u001b[0m\u001b[0;34m)\u001b[0m\u001b[0;34m\u001b[0m\u001b[0;34m\u001b[0m\u001b[0m\n",
      "\u001b[0;32m<ipython-input-6-8dbec6be6da2>\u001b[0m in \u001b[0;36mcompare_products\u001b[0;34m(stg_data, prod_data)\u001b[0m\n\u001b[1;32m     29\u001b[0m             \u001b[0mprod_product_id\u001b[0m \u001b[0;34m=\u001b[0m \u001b[0mprod_product\u001b[0m\u001b[0;34m[\u001b[0m\u001b[0;34m'externalID'\u001b[0m\u001b[0;34m]\u001b[0m\u001b[0;34m\u001b[0m\u001b[0;34m\u001b[0m\u001b[0m\n\u001b[1;32m     30\u001b[0m             \u001b[0;32mif\u001b[0m \u001b[0mstg_product_id\u001b[0m \u001b[0;34m==\u001b[0m \u001b[0mprod_product_id\u001b[0m\u001b[0;34m:\u001b[0m\u001b[0;34m\u001b[0m\u001b[0;34m\u001b[0m\u001b[0m\n\u001b[0;32m---> 31\u001b[0;31m                 \u001b[0mddiff\u001b[0m \u001b[0;34m=\u001b[0m \u001b[0mDeepDiff\u001b[0m\u001b[0;34m(\u001b[0m\u001b[0mt1\u001b[0m\u001b[0;34m,\u001b[0m \u001b[0mt2\u001b[0m\u001b[0;34m,\u001b[0m \u001b[0mignore_order\u001b[0m\u001b[0;34m=\u001b[0m\u001b[0;32mTrue\u001b[0m\u001b[0;34m)\u001b[0m\u001b[0;34m\u001b[0m\u001b[0;34m\u001b[0m\u001b[0m\n\u001b[0m\u001b[1;32m     32\u001b[0m                 \u001b[0mprint\u001b[0m\u001b[0;34m(\u001b[0m\u001b[0mddiff\u001b[0m\u001b[0;34m)\u001b[0m\u001b[0;34m\u001b[0m\u001b[0;34m\u001b[0m\u001b[0m\n\u001b[1;32m     33\u001b[0m \u001b[0;34m\u001b[0m\u001b[0m\n",
      "\u001b[0;31mNameError\u001b[0m: name 't1' is not defined"
     ]
    }
   ],
   "source": [
    "import json\n",
    "from deepdiff import DeepDiff\n",
    "from pprint import pprint\n",
    "\n",
    "stg_data_path = \"../temp_file/stg_product.jsons\"\n",
    "prod_data_path = \"../temp_file/prod_product.jsons\"\n",
    "\n",
    "def convert_json(file_path):\n",
    "    with open (file_path, \"r\") as myfile:\n",
    "        data=myfile.read().replace(\"}\\n{\", \"},\\n{\")\n",
    "        data = \"[\" + data + \"]\"\n",
    "        data = json.loads(data)\n",
    "        return data\n",
    "\n",
    "# write missing products to csv\n",
    "\n",
    "# all_rids = []  \n",
    "# with open(output_filename, \"w\") as output:\n",
    "#     writer = csv.writer(output, lineterminator='\\n')\n",
    "#     for val in all_rids:\n",
    "#         writer.writerow([val])\n",
    "    \n",
    "def compare_products(stg_data, prod_data):\n",
    "    print(\"Comparing Data\")\n",
    "    for stg_product in stg_data:\n",
    "        stg_product_id = stg_product['externalID']        \n",
    "#         get stg product info\n",
    "        for prod_product in prod_data:\n",
    "            prod_product_id = prod_product['externalID']\n",
    "            if stg_product_id == prod_product_id:\n",
    "                ddiff = DeepDiff(stg_product, prod_product, ignore_order=True)\n",
    "                print(ddiff)\n",
    "\n",
    "    \n",
    "    \n",
    "\n",
    "def main():\n",
    "    new_stg_data = convert_json(stg_data_path)\n",
    "    new_prod_data = convert_json(prod_data_path)\n",
    "    \n",
    "    compare_products(new_stg_data, new_prod_data)\n",
    "    \n",
    "main()\n",
    "    "
   ]
  },
  {
   "cell_type": "code",
   "execution_count": null,
   "metadata": {},
   "outputs": [],
   "source": []
  }
 ],
 "metadata": {
  "kernelspec": {
   "display_name": "Python 3",
   "language": "python",
   "name": "python3"
  },
  "language_info": {
   "codemirror_mode": {
    "name": "ipython",
    "version": 3
   },
   "file_extension": ".py",
   "mimetype": "text/x-python",
   "name": "python",
   "nbconvert_exporter": "python",
   "pygments_lexer": "ipython3",
   "version": "3.7.4"
  }
 },
 "nbformat": 4,
 "nbformat_minor": 2
}
