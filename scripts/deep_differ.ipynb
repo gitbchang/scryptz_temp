{
 "cells": [
  {
   "cell_type": "code",
   "execution_count": 25,
   "metadata": {},
   "outputs": [
    {
     "name": "stdout",
     "output_type": "stream",
     "text": [
      "Comparing Data\n",
      "{'1047237787684': {'values_changed': {\"root['attributes']['name']['default']\": {'new_value': 'RED '\n",
      "                                                                                             'GREEN '\n",
      "                                                                                             'BLUE',\n",
      "                                                                                'old_value': 'ROLY '\n",
      "                                                                                             'POLY'},\n",
      "                                      \"root['attributes']['name']['en_US']\": {'new_value': 'RED '\n",
      "                                                                                           'GREEN '\n",
      "                                                                                           'BLUE',\n",
      "                                                                              'old_value': 'ROLY '\n",
      "                                                                                           'POLY'},\n",
      "                                      \"root['attributes']['productPageUrl']['default']\": {'new_value': 'http://google.com',\n",
      "                                                                                          'old_value': 'https://shop-cst-tires.myshopify.com/products/roly-poly-1'}}}}\n"
     ]
    },
    {
     "ename": "TypeError",
     "evalue": "the JSON object must be str, bytes or bytearray, not dict",
     "output_type": "error",
     "traceback": [
      "\u001b[0;31m---------------------------------------------------------------------------\u001b[0m",
      "\u001b[0;31mTypeError\u001b[0m                                 Traceback (most recent call last)",
      "\u001b[0;32m<ipython-input-25-3118fb92428e>\u001b[0m in \u001b[0;36m<module>\u001b[0;34m\u001b[0m\n\u001b[1;32m     61\u001b[0m     \u001b[0mcompare_products\u001b[0m\u001b[0;34m(\u001b[0m\u001b[0mnew_stg_data\u001b[0m\u001b[0;34m,\u001b[0m \u001b[0mnew_prod_data\u001b[0m\u001b[0;34m)\u001b[0m\u001b[0;34m\u001b[0m\u001b[0;34m\u001b[0m\u001b[0m\n\u001b[1;32m     62\u001b[0m \u001b[0;34m\u001b[0m\u001b[0m\n\u001b[0;32m---> 63\u001b[0;31m \u001b[0mmain\u001b[0m\u001b[0;34m(\u001b[0m\u001b[0;34m)\u001b[0m\u001b[0;34m\u001b[0m\u001b[0;34m\u001b[0m\u001b[0m\n\u001b[0m",
      "\u001b[0;32m<ipython-input-25-3118fb92428e>\u001b[0m in \u001b[0;36mmain\u001b[0;34m()\u001b[0m\n\u001b[1;32m     59\u001b[0m     \u001b[0mnew_prod_data\u001b[0m \u001b[0;34m=\u001b[0m \u001b[0mconvert_json\u001b[0m\u001b[0;34m(\u001b[0m\u001b[0mprod_data_path\u001b[0m\u001b[0;34m)\u001b[0m\u001b[0;34m\u001b[0m\u001b[0;34m\u001b[0m\u001b[0m\n\u001b[1;32m     60\u001b[0m \u001b[0;34m\u001b[0m\u001b[0m\n\u001b[0;32m---> 61\u001b[0;31m     \u001b[0mcompare_products\u001b[0m\u001b[0;34m(\u001b[0m\u001b[0mnew_stg_data\u001b[0m\u001b[0;34m,\u001b[0m \u001b[0mnew_prod_data\u001b[0m\u001b[0;34m)\u001b[0m\u001b[0;34m\u001b[0m\u001b[0;34m\u001b[0m\u001b[0m\n\u001b[0m\u001b[1;32m     62\u001b[0m \u001b[0;34m\u001b[0m\u001b[0m\n\u001b[1;32m     63\u001b[0m \u001b[0mmain\u001b[0m\u001b[0;34m(\u001b[0m\u001b[0;34m)\u001b[0m\u001b[0;34m\u001b[0m\u001b[0;34m\u001b[0m\u001b[0m\n",
      "\u001b[0;32m<ipython-input-25-3118fb92428e>\u001b[0m in \u001b[0;36mcompare_products\u001b[0;34m(stg_data, prod_data)\u001b[0m\n\u001b[1;32m     46\u001b[0m         \u001b[0mpprint\u001b[0m\u001b[0;34m(\u001b[0m\u001b[0mcomparison_data_dictionary\u001b[0m\u001b[0;34m)\u001b[0m\u001b[0;34m\u001b[0m\u001b[0;34m\u001b[0m\u001b[0m\n\u001b[1;32m     47\u001b[0m         \u001b[0mfile\u001b[0m \u001b[0;34m=\u001b[0m \u001b[0mopen\u001b[0m\u001b[0;34m(\u001b[0m\u001b[0;34m'compare_results.json'\u001b[0m\u001b[0;34m,\u001b[0m \u001b[0;34m'w'\u001b[0m\u001b[0;34m)\u001b[0m\u001b[0;34m\u001b[0m\u001b[0;34m\u001b[0m\u001b[0m\n\u001b[0;32m---> 48\u001b[0;31m         \u001b[0mmydata\u001b[0m \u001b[0;34m=\u001b[0m \u001b[0mjson\u001b[0m\u001b[0;34m.\u001b[0m\u001b[0mloads\u001b[0m\u001b[0;34m(\u001b[0m\u001b[0mcomparison_data_dictionary\u001b[0m\u001b[0;34m)\u001b[0m\u001b[0;34m\u001b[0m\u001b[0;34m\u001b[0m\u001b[0m\n\u001b[0m\u001b[1;32m     49\u001b[0m         \u001b[0mfile\u001b[0m\u001b[0;34m.\u001b[0m\u001b[0mwrite\u001b[0m\u001b[0;34m(\u001b[0m\u001b[0mjson\u001b[0m\u001b[0;34m.\u001b[0m\u001b[0mdumps\u001b[0m\u001b[0;34m(\u001b[0m\u001b[0mmydata\u001b[0m\u001b[0;34m,\u001b[0m \u001b[0mindent\u001b[0m\u001b[0;34m=\u001b[0m\u001b[0;36m4\u001b[0m\u001b[0;34m)\u001b[0m\u001b[0;34m,\u001b[0m \u001b[0;34m'w'\u001b[0m\u001b[0;34m)\u001b[0m\u001b[0;34m\u001b[0m\u001b[0;34m\u001b[0m\u001b[0m\n\u001b[1;32m     50\u001b[0m         \u001b[0mfile\u001b[0m\u001b[0;34m.\u001b[0m\u001b[0mclose\u001b[0m\u001b[0;34m(\u001b[0m\u001b[0;34m)\u001b[0m\u001b[0;34m\u001b[0m\u001b[0;34m\u001b[0m\u001b[0m\n",
      "\u001b[0;32m/usr/local/Cellar/python/3.7.4/Frameworks/Python.framework/Versions/3.7/lib/python3.7/json/__init__.py\u001b[0m in \u001b[0;36mloads\u001b[0;34m(s, encoding, cls, object_hook, parse_float, parse_int, parse_constant, object_pairs_hook, **kw)\u001b[0m\n\u001b[1;32m    339\u001b[0m     \u001b[0;32melse\u001b[0m\u001b[0;34m:\u001b[0m\u001b[0;34m\u001b[0m\u001b[0;34m\u001b[0m\u001b[0m\n\u001b[1;32m    340\u001b[0m         \u001b[0;32mif\u001b[0m \u001b[0;32mnot\u001b[0m \u001b[0misinstance\u001b[0m\u001b[0;34m(\u001b[0m\u001b[0ms\u001b[0m\u001b[0;34m,\u001b[0m \u001b[0;34m(\u001b[0m\u001b[0mbytes\u001b[0m\u001b[0;34m,\u001b[0m \u001b[0mbytearray\u001b[0m\u001b[0;34m)\u001b[0m\u001b[0;34m)\u001b[0m\u001b[0;34m:\u001b[0m\u001b[0;34m\u001b[0m\u001b[0;34m\u001b[0m\u001b[0m\n\u001b[0;32m--> 341\u001b[0;31m             raise TypeError(f'the JSON object must be str, bytes or bytearray, '\n\u001b[0m\u001b[1;32m    342\u001b[0m                             f'not {s.__class__.__name__}')\n\u001b[1;32m    343\u001b[0m         \u001b[0ms\u001b[0m \u001b[0;34m=\u001b[0m \u001b[0ms\u001b[0m\u001b[0;34m.\u001b[0m\u001b[0mdecode\u001b[0m\u001b[0;34m(\u001b[0m\u001b[0mdetect_encoding\u001b[0m\u001b[0;34m(\u001b[0m\u001b[0ms\u001b[0m\u001b[0;34m)\u001b[0m\u001b[0;34m,\u001b[0m \u001b[0;34m'surrogatepass'\u001b[0m\u001b[0;34m)\u001b[0m\u001b[0;34m\u001b[0m\u001b[0;34m\u001b[0m\u001b[0m\n",
      "\u001b[0;31mTypeError\u001b[0m: the JSON object must be str, bytes or bytearray, not dict"
     ]
    }
   ],
   "source": [
    "import json\n",
    "import csv\n",
    "from deepdiff import DeepDiff\n",
    "from pprint import pprint\n",
    "\n",
    "\n",
    "stg_data_path = \"../temp_file/stg_product.jsons\"\n",
    "prod_data_path = \"../temp_file/prod_product.jsons\"\n",
    "\n",
    "def convert_json(file_path):\n",
    "    with open (file_path, \"r\") as myfile:\n",
    "        data=myfile.read().replace(\"}\\n{\", \"},\\n{\")\n",
    "        data = \"[\" + data + \"]\"\n",
    "        data = json.loads(data)\n",
    "        return data\n",
    "\n",
    "# write missing products to csv\n",
    "def write_missing_products(pid_list, output_filename):  \n",
    "    with open(output_filename, \"w\") as output:\n",
    "        writer = csv.writer(output, lineterminator='\\n')\n",
    "        for val in pid_list:\n",
    "            writer.writerow([val])\n",
    "    \n",
    "def compare_products(stg_data, prod_data):\n",
    "    print(\"Comparing Data\")\n",
    "    comparison_data_dictionary = {}\n",
    "    missing_pids = []\n",
    "#   use production data as baseline compare\n",
    "    for prod_product in prod_data:\n",
    "        match_found_bool = False\n",
    "        prod_product_id = prod_product['externalID']       \n",
    "        for stg_product in stg_data:       \n",
    "            stg_product_id = stg_product['externalID']        \n",
    "            if stg_product_id == prod_product_id:\n",
    "                match_found_bool = True\n",
    "                ddiff = DeepDiff(prod_product, stg_product, ignore_order=True)\n",
    "                if bool(ddiff):\n",
    "#                     print(prod_product_id)\n",
    "#                     pprint(ddiff)\n",
    "                    comparison_data_dictionary[prod_product_id] = ddiff\n",
    "        if not match_found_bool:\n",
    "#           existing Production product not found in stg_data\n",
    "            missing_pids.append(prod_product_id)\n",
    "    write_missing_products(missing_pids, \"differ_missing_pids.csv\")\n",
    "    if bool(comparison_data_dictionary):\n",
    "        pprint(comparison_data_dictionary)\n",
    "        with open('compare_results.json', 'w') as fp:\n",
    "            json.dump(comparison_data_dictionary, fp, indent=4)\n",
    "\n",
    "\n",
    "\n",
    "\n",
    "def main():\n",
    "    new_stg_data = convert_json(stg_data_path)\n",
    "    new_prod_data = convert_json(prod_data_path)\n",
    "    \n",
    "    compare_products(new_stg_data, new_prod_data)\n",
    "    \n",
    "main()"
   ]
  },
  {
   "cell_type": "code",
   "execution_count": null,
   "metadata": {},
   "outputs": [],
   "source": []
  }
 ],
 "metadata": {
  "kernelspec": {
   "display_name": "Python 3",
   "language": "python",
   "name": "python3"
  },
  "language_info": {
   "codemirror_mode": {
    "name": "ipython",
    "version": 3
   },
   "file_extension": ".py",
   "mimetype": "text/x-python",
   "name": "python",
   "nbconvert_exporter": "python",
   "pygments_lexer": "ipython3",
   "version": "3.7.4"
  }
 },
 "nbformat": 4,
 "nbformat_minor": 2
}
